{
 "cells": [
  {
   "cell_type": "code",
   "execution_count": 1,
   "id": "e07c0364",
   "metadata": {},
   "outputs": [],
   "source": [
    "import pandas as pd\n",
    "import numpy as np"
   ]
  },
  {
   "cell_type": "code",
   "execution_count": 3,
   "id": "13d855ff",
   "metadata": {},
   "outputs": [],
   "source": [
    "df = pd.read_csv(\"happiness.csv\")"
   ]
  },
  {
   "cell_type": "code",
   "execution_count": 4,
   "id": "e9a9e7f1",
   "metadata": {},
   "outputs": [
    {
     "data": {
      "text/plain": [
       "-0.0060916203373473235"
      ]
     },
     "execution_count": 4,
     "metadata": {},
     "output_type": "execute_result"
    }
   ],
   "source": [
    "df['Mean'].corr(df['N'])"
   ]
  },
  {
   "cell_type": "code",
   "execution_count": 25,
   "id": "f435c297",
   "metadata": {},
   "outputs": [
    {
     "name": "stdout",
     "output_type": "stream",
     "text": [
      "p_pred:\n",
      "[[0.50154779 0.49845221]\n",
      " [0.49103782 0.50896218]\n",
      " [0.53303241 0.46696759]\n",
      " [0.49734344 0.50265656]\n",
      " [0.49944561 0.50055439]\n",
      " [0.49734344 0.50265656]\n",
      " [0.48053577 0.51946423]\n",
      " [0.50154779 0.49845221]\n",
      " [0.50154779 0.49845221]\n",
      " [0.49734344 0.50265656]\n",
      " [0.47843712 0.52156288]\n",
      " [0.49103782 0.50896218]\n",
      " [0.50995523 0.49004477]\n",
      " [0.50995523 0.49004477]\n",
      " [0.48473504 0.51526496]\n",
      " [0.50995523 0.49004477]\n",
      " [0.50364992 0.49635008]\n",
      " [0.48683553 0.51316447]\n",
      " [0.51205639 0.48794361]\n",
      " [0.52465185 0.47534815]\n",
      " [0.49103782 0.50896218]\n",
      " [0.48683553 0.51316447]\n",
      " [0.48473504 0.51526496]\n",
      " [0.50154779 0.49845221]\n",
      " [0.51205639 0.48794361]\n",
      " [0.50785371 0.49214629]\n",
      " [0.4826351  0.5173649 ]\n",
      " [0.49524138 0.50475862]\n",
      " [0.49524138 0.50475862]\n",
      " [0.51625737 0.48374263]\n",
      " [0.48893648 0.51106352]\n",
      " [0.51625737 0.48374263]\n",
      " [0.49524138 0.50475862]\n",
      " [0.50575191 0.49424809]\n",
      " [0.49734344 0.50265656]\n",
      " [0.50154779 0.49845221]\n",
      " [0.49103782 0.50896218]\n",
      " [0.53303241 0.46696759]\n",
      " [0.49103782 0.50896218]\n",
      " [0.49524138 0.50475862]\n",
      " [0.49734344 0.50265656]\n",
      " [0.48053577 0.51946423]\n",
      " [0.49944561 0.50055439]\n",
      " [0.49944561 0.50055439]\n",
      " [0.49313948 0.50686052]\n",
      " [0.4826351  0.5173649 ]\n",
      " [0.49103782 0.50896218]\n",
      " [0.50785371 0.49214629]\n",
      " [0.50575191 0.49424809]\n",
      " [0.48683553 0.51316447]\n",
      " [0.50575191 0.49424809]\n",
      " [0.50154779 0.49845221]\n",
      " [0.48473504 0.51526496]\n",
      " [0.50995523 0.49004477]\n",
      " [0.52255435 0.47744565]\n",
      " [0.48683553 0.51316447]\n",
      " [0.48683553 0.51316447]\n",
      " [0.48683553 0.51316447]\n",
      " [0.49944561 0.50055439]\n",
      " [0.50785371 0.49214629]\n",
      " [0.50575191 0.49424809]\n",
      " [0.4826351  0.5173649 ]\n",
      " [0.49313948 0.50686052]\n",
      " [0.49734344 0.50265656]\n",
      " [0.51625737 0.48374263]\n",
      " [0.49313948 0.50686052]\n",
      " [0.51625737 0.48374263]\n",
      " [0.49524138 0.50475862]\n",
      " [0.50364992 0.49635008]\n",
      " [0.49734344 0.50265656]]\n",
      "y_pred:\n",
      "[1 2 1 2 2 2 2 1 1 2 2 2 1 1 2 1 1 2 1 1 2 2 2 1 1 1 2 2 2 1 2 1 2 1 2 1 2\n",
      " 1 2 2 2 2 2 2 2 2 2 1 1 2 1 1 2 1 1 2 2 2 2 1 1 2 2 2 1 2 1 2 1 2]\n",
      "38\n",
      "Accuracy:  0.5428571428571428\n"
     ]
    }
   ],
   "source": [
    "from sklearn.linear_model import LogisticRegression \n",
    "from sklearn.metrics import classification_report, confusion_matrix \n",
    " \n",
    "# Step 2: Get data \n",
    "x1 = df['Mean'].values\n",
    "x=x1.reshape(-1, 1) \n",
    "y = df['Gen'].values\n",
    "# Step 3: Create a model and train it \n",
    "model = LogisticRegression(solver='liblinear', C=10.0, random_state=0) \n",
    "model.fit(x, y) \n",
    " \n",
    "# Step 4: Evaluate the model \n",
    "p_pred = model.predict_proba(x) \n",
    "y_pred = model.predict(x) \n",
    "score_ = model.score(x, y) \n",
    "conf_m = confusion_matrix(y, y_pred) \n",
    "print('p_pred:', p_pred, sep='\\n') \n",
    "print('y_pred:', y_pred, sep='\\n') \n",
    "#print('score_:', score_, sep='\\n') \n",
    "#print('conf_m:', conf_m, sep='\\n')\n",
    "i=0\n",
    "matching=0\n",
    "while i<len(y_pred):\n",
    "    if(y_pred[i]==y[i]):\n",
    "         matching=matching+1\n",
    "    i=i+1\n",
    "print(matching)\n",
    "print(\"Accuracy: \",matching/len(y_pred))"
   ]
  },
  {
   "cell_type": "code",
   "execution_count": null,
   "id": "53df6500",
   "metadata": {},
   "outputs": [],
   "source": []
  },
  {
   "cell_type": "code",
   "execution_count": null,
   "id": "aff8e627",
   "metadata": {},
   "outputs": [],
   "source": []
  },
  {
   "cell_type": "code",
   "execution_count": null,
   "id": "660d96db",
   "metadata": {},
   "outputs": [],
   "source": []
  },
  {
   "cell_type": "code",
   "execution_count": null,
   "id": "8f00f7e7",
   "metadata": {},
   "outputs": [],
   "source": []
  },
  {
   "cell_type": "code",
   "execution_count": null,
   "id": "d12c4ffc",
   "metadata": {},
   "outputs": [],
   "source": []
  },
  {
   "cell_type": "code",
   "execution_count": null,
   "id": "89911eff",
   "metadata": {},
   "outputs": [],
   "source": []
  }
 ],
 "metadata": {
  "kernelspec": {
   "display_name": "Python 3 (ipykernel)",
   "language": "python",
   "name": "python3"
  },
  "language_info": {
   "codemirror_mode": {
    "name": "ipython",
    "version": 3
   },
   "file_extension": ".py",
   "mimetype": "text/x-python",
   "name": "python",
   "nbconvert_exporter": "python",
   "pygments_lexer": "ipython3",
   "version": "3.11.4"
  }
 },
 "nbformat": 4,
 "nbformat_minor": 5
}
