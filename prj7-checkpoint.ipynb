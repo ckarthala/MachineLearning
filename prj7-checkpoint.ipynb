{
 "cells": [
  {
   "cell_type": "code",
   "execution_count": 26,
   "id": "b8859589",
   "metadata": {},
   "outputs": [
    {
     "name": "stdout",
     "output_type": "stream",
     "text": [
      "90.0258264999535\n"
     ]
    }
   ],
   "source": [
    "import math\n",
    "def pac_learn_least_sample_size(n, epsilon=0.2, delta=0.1, seed=None) :\n",
    "    least_size=1/epsilon*(math.log(n)+math.log(1/delta))\n",
    "    return least_size\n",
    "least_size=pac_learn_least_sample_size(6600000)\n",
    "print(least_size)"
   ]
  },
  {
   "cell_type": "code",
   "execution_count": null,
   "id": "52019bf5",
   "metadata": {},
   "outputs": [],
   "source": []
  }
 ],
 "metadata": {
  "kernelspec": {
   "display_name": "Python 3 (ipykernel)",
   "language": "python",
   "name": "python3"
  },
  "language_info": {
   "codemirror_mode": {
    "name": "ipython",
    "version": 3
   },
   "file_extension": ".py",
   "mimetype": "text/x-python",
   "name": "python",
   "nbconvert_exporter": "python",
   "pygments_lexer": "ipython3",
   "version": "3.11.4"
  }
 },
 "nbformat": 4,
 "nbformat_minor": 5
}
